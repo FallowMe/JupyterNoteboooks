{
 "cells": [
  {
   "cell_type": "code",
   "execution_count": 1,
   "metadata": {},
   "outputs": [
    {
     "name": "stdout",
     "output_type": "stream",
     "text": [
      "[0.25, 1.25, 2.25, 3.25, 4.25]\n"
     ]
    }
   ],
   "source": [
    "x = [1,2,3,4,5]\n",
    "y = [i-0.75 for i in x]\n",
    "print(y)"
   ]
  },
  {
   "cell_type": "code",
   "execution_count": 3,
   "metadata": {},
   "outputs": [],
   "source": [
    "import numpy as np"
   ]
  },
  {
   "cell_type": "code",
   "execution_count": 4,
   "metadata": {},
   "outputs": [
    {
     "name": "stdout",
     "output_type": "stream",
     "text": [
      "[0 2 4 6 8]\n",
      "<class 'numpy.ndarray'>\n"
     ]
    }
   ],
   "source": [
    "# array\n",
    "x = np.arange(0, 10, 2)\n",
    "print(x)\n",
    "print(type(x))"
   ]
  },
  {
   "cell_type": "code",
   "execution_count": 5,
   "metadata": {},
   "outputs": [
    {
     "name": "stdout",
     "output_type": "stream",
     "text": [
      "[-0.75  1.25  3.25  5.25  7.25]\n"
     ]
    }
   ],
   "source": [
    "y = x -0.75\n",
    "print(y)"
   ]
  },
  {
   "cell_type": "code",
   "execution_count": 6,
   "metadata": {},
   "outputs": [
    {
     "ename": "TypeError",
     "evalue": "average() missing 1 required positional argument: 'a'",
     "output_type": "error",
     "traceback": [
      "\u001b[1;31m---------------------------------------------------------------------------\u001b[0m",
      "\u001b[1;31mTypeError\u001b[0m                                 Traceback (most recent call last)",
      "Cell \u001b[1;32mIn[6], line 1\u001b[0m\n\u001b[1;32m----> 1\u001b[0m \u001b[43mnp\u001b[49m\u001b[38;5;241;43m.\u001b[39;49m\u001b[43maverage\u001b[49m\u001b[43m(\u001b[49m\u001b[43m)\u001b[49m\n\u001b[0;32m      2\u001b[0m np\u001b[38;5;241m.\u001b[39mmin()\n\u001b[0;32m      3\u001b[0m np\u001b[38;5;241m.\u001b[39mmean()\n",
      "\u001b[1;31mTypeError\u001b[0m: average() missing 1 required positional argument: 'a'"
     ]
    }
   ],
   "source": [
    "np.average()\n",
    "np.min()\n",
    "np.mean()\n",
    "np.median()"
   ]
  },
  {
   "cell_type": "code",
   "execution_count": 7,
   "metadata": {},
   "outputs": [
    {
     "name": "stdout",
     "output_type": "stream",
     "text": [
      "[1, 2, 3, 4, 5, 6, 7, 8, 9, 10]\n"
     ]
    }
   ],
   "source": [
    "a_list = [i for i in range(1, 11)]\n",
    "print(a_list)"
   ]
  },
  {
   "cell_type": "code",
   "execution_count": 9,
   "metadata": {},
   "outputs": [
    {
     "name": "stdout",
     "output_type": "stream",
     "text": [
      "[ 1.75  2.75  3.75  4.75  5.75  6.75  7.75  8.75  9.75 10.75]\n"
     ]
    }
   ],
   "source": [
    "a_array = np.asarray(a_list)\n",
    "print(a_array+0.75)"
   ]
  },
  {
   "cell_type": "code",
   "execution_count": 7,
   "metadata": {},
   "outputs": [
    {
     "name": "stdout",
     "output_type": "stream",
     "text": [
      "[ 1  8 15]\n"
     ]
    }
   ],
   "source": [
    "x = [1,2,3]\n",
    "y = [1,4,5]\n",
    "x_np = np.asarray(x)\n",
    "y_np = np.asarray(y)\n",
    "c = x_np*y_np\n",
    "print(c)"
   ]
  },
  {
   "cell_type": "code",
   "execution_count": 8,
   "metadata": {},
   "outputs": [
    {
     "data": {
      "text/plain": [
       "5"
      ]
     },
     "execution_count": 8,
     "metadata": {},
     "output_type": "execute_result"
    }
   ],
   "source": [
    "np.min(x)\n",
    "np.max(y_np)"
   ]
  },
  {
   "cell_type": "code",
   "execution_count": 22,
   "metadata": {},
   "outputs": [
    {
     "name": "stdout",
     "output_type": "stream",
     "text": [
      "[2 9 4 6 1 7 4 8 5 3 5 9 5 9 5 4 8 3 2 1 1 3 8 6 3 7 8 2 4 0 2 1 9 9 8 5 3\n",
      " 6 9 1 3 2 3 0 7 7 6 8 2 5 7 0 8 9 2 0 7 6 0 8 4 4 1 0 5 6 4 2 0 7 8 6 5 5\n",
      " 2 9 2 2 7 7 7 3 7 8 2 8 0 4 5 9 9 6 8 1 2 1 5 6 1 8]\n"
     ]
    }
   ],
   "source": [
    "atsitiktinis = np.random.randint(0,10, 100)  # siame sarase bus lygiai 100 elementu tarp ribu 0 ir 10. Ribas butinai turime nurodyti.\n",
    "print(atsitiktinis)"
   ]
  },
  {
   "cell_type": "code",
   "execution_count": 26,
   "metadata": {},
   "outputs": [
    {
     "name": "stdout",
     "output_type": "stream",
     "text": [
      "[0.42609964 0.39662345 0.84101005 0.51618857 0.00963625 0.23841803\n",
      " 0.58796588 0.846694   0.8034774  0.80518356 0.32993987 0.0834094\n",
      " 0.67038491 0.61593872 0.12229244 0.69338293 0.20890864 0.46312756\n",
      " 0.93698712 0.29522791 0.89438807 0.49051416 0.64318959 0.98423708\n",
      " 0.94106711 0.55476045 0.42049647 0.06508006 0.2204511  0.6588655\n",
      " 0.36738324 0.47249512 0.05489685 0.06577469 0.7591358  0.75062497\n",
      " 0.81846245 0.28301303 0.38625409 0.23552986 0.62616071 0.31911113\n",
      " 0.91211931 0.69302081 0.54818109 0.08559222 0.3085235  0.04918946\n",
      " 0.66516932 0.81002965 0.76719816 0.18269935 0.2665594  0.58614433\n",
      " 0.67628716 0.99874854 0.05011611 0.14470837 0.26619607 0.18211326\n",
      " 0.15994204 0.46848857 0.17676047 0.81684042 0.3232431  0.74320501\n",
      " 0.07385124 0.24252206 0.56380036 0.47725363 0.56576325 0.98394333\n",
      " 0.4437279  0.22251446 0.39502655 0.67366276 0.79159823 0.81433938\n",
      " 0.67997743 0.88491922 0.02734005 0.46272019 0.55896213 0.8790271\n",
      " 0.38039045 0.86906221 0.2785389  0.96402401 0.89730169 0.96427874\n",
      " 0.12295985 0.73657436 0.57179461 0.40715761 0.45975784 0.69186647\n",
      " 0.91284676 0.15901118 0.5667331  0.04289593]\n"
     ]
    }
   ],
   "source": [
    "atsitiktinis_float = np.random.rand(100) # ribos yra tarp 0 ir 1, tik nurodome kiek norime skaiciu 100,200...\n",
    "print(atsitiktinis_float)"
   ]
  },
  {
   "cell_type": "code",
   "execution_count": 49,
   "metadata": {},
   "outputs": [
    {
     "name": "stdout",
     "output_type": "stream",
     "text": [
      "4.46\n",
      "4.310815921721679\n",
      "4.0 1 9\n"
     ]
    }
   ],
   "source": [
    "xas = np.random.randint(1,10,100)\n",
    "svoriai = np.random.rand(100)\n",
    "#mean(vidurkis, grieztai aritmetinis) ir average(galime nurodyti svertus)\n",
    "vidurkis = np.mean(xas)\n",
    "print(vidurkis)\n",
    "sv_vid = np.average(xas, weights=svoriai)\n",
    "print(sv_vid)\n",
    "# median()\n",
    "medx = np.median(xas)\n",
    "print(medx, np.min(xas), np.max(xas))"
   ]
  },
  {
   "cell_type": "code",
   "execution_count": 57,
   "metadata": {},
   "outputs": [
    {
     "name": "stdout",
     "output_type": "stream",
     "text": [
      "[ 0.          0.71428571  1.42857143  2.14285714  2.85714286  3.57142857\n",
      "  4.28571429  5.          5.71428571  6.42857143  7.14285714  7.85714286\n",
      "  8.57142857  9.28571429 10.        ]\n"
     ]
    }
   ],
   "source": [
    "l = np.linspace(0,10,15) #(.........endpoint=False) jeigu nenorite, kad itrauktu paskutini skaiciu\n",
    "print(l)"
   ]
  },
  {
   "cell_type": "code",
   "execution_count": null,
   "metadata": {},
   "outputs": [],
   "source": []
  },
  {
   "cell_type": "code",
   "execution_count": 61,
   "metadata": {},
   "outputs": [
    {
     "name": "stdout",
     "output_type": "stream",
     "text": [
      "0\n",
      "4.5\n",
      "9\n"
     ]
    }
   ],
   "source": [
    "# asarray, arange, min, max, mena, average, median\n",
    "n_np = np.arange(0,10)\n",
    "# kaip metodai\n",
    "minn = n_np.min()\n",
    "print(minn)\n",
    "print(n_np.mean())\n",
    "print(n_np.max())"
   ]
  },
  {
   "cell_type": "code",
   "execution_count": 14,
   "metadata": {},
   "outputs": [
    {
     "name": "stdout",
     "output_type": "stream",
     "text": [
      "The autoreload extension is already loaded. To reload it, use:\n",
      "  %reload_ext autoreload\n"
     ]
    }
   ],
   "source": [
    "%load_ext autoreload"
   ]
  },
  {
   "cell_type": "code",
   "execution_count": 15,
   "metadata": {},
   "outputs": [],
   "source": [
    "%autoreload 2\n",
    "import modulis"
   ]
  },
  {
   "cell_type": "code",
   "execution_count": 7,
   "metadata": {},
   "outputs": [],
   "source": []
  },
  {
   "cell_type": "code",
   "execution_count": 8,
   "metadata": {},
   "outputs": [
    {
     "name": "stdout",
     "output_type": "stream",
     "text": [
      "70\n"
     ]
    }
   ],
   "source": [
    "print(modulis.A)"
   ]
  },
  {
   "cell_type": "code",
   "execution_count": 17,
   "metadata": {},
   "outputs": [
    {
     "name": "stdout",
     "output_type": "stream",
     "text": [
      "As esu nauja printA() funkcija\n",
      "Dar vienas pakeitimas\n",
      "Paskutinis pakeitimas\n"
     ]
    }
   ],
   "source": [
    "modulis.printA()"
   ]
  },
  {
   "cell_type": "code",
   "execution_count": 19,
   "metadata": {},
   "outputs": [
    {
     "name": "stdout",
     "output_type": "stream",
     "text": [
      "Automobilis turi 5 sedimas vietas\n",
      "Autobusas turi 40 sedimu vietu \n",
      "Traukinys turi 100 sedimu vietu\n"
     ]
    }
   ],
   "source": [
    "# iškelkite savo anksčiau rašytas Vehicle, Car, etc klases\n",
    "# į modulį\n",
    "# ir patikrinkite klasių veikimą\n",
    "# sukurdami kintamuosius ir patikrindami jų veikimą\n",
    "\n",
    "test = modulis.Car(P='Automobilis', R=5000, S=5)\n",
    "print(test.GetSeats())\n",
    "\n",
    "test = modulis.Bus(P='Autobusas', R=10000, S=40)\n",
    "print(test.GetSeats())\n",
    "\n",
    "test = modulis.Train(P='Traukinys', R=20000, S=100)\n",
    "print(test.GetSeats())"
   ]
  },
  {
   "cell_type": "code",
   "execution_count": 7,
   "metadata": {},
   "outputs": [
    {
     "ename": "ValueError",
     "evalue": "could not convert string to float: 'U[V]'",
     "output_type": "error",
     "traceback": [
      "\u001b[1;31m---------------------------------------------------------------------------\u001b[0m",
      "\u001b[1;31mValueError\u001b[0m                                Traceback (most recent call last)",
      "Cell \u001b[1;32mIn[7], line 40\u001b[0m\n\u001b[0;32m     37\u001b[0m fs \u001b[38;5;241m=\u001b[39m FailoSkaitytuvas(\u001b[38;5;124m\"\u001b[39m\u001b[38;5;124mREF_D_5k_FW_2.03.dat\u001b[39m\u001b[38;5;124m\"\u001b[39m)\n\u001b[0;32m     39\u001b[0m \u001b[38;5;66;03m# Nuskaitome failą\u001b[39;00m\n\u001b[1;32m---> 40\u001b[0m \u001b[43mfs\u001b[49m\u001b[38;5;241;43m.\u001b[39;49m\u001b[43mskaityti_faila\u001b[49m\u001b[43m(\u001b[49m\u001b[43m)\u001b[49m\n\u001b[0;32m     42\u001b[0m \u001b[38;5;66;03m# Atspausdiname skaičių sąrašus\u001b[39;00m\n\u001b[0;32m     43\u001b[0m \u001b[38;5;28mprint\u001b[39m(\u001b[38;5;124m\"\u001b[39m\u001b[38;5;124mI:\u001b[39m\u001b[38;5;124m\"\u001b[39m, fs\u001b[38;5;241m.\u001b[39mI)\n",
      "Cell \u001b[1;32mIn[7], line 20\u001b[0m, in \u001b[0;36mFailoSkaitytuvas.skaityti_faila\u001b[1;34m(self)\u001b[0m\n\u001b[0;32m     18\u001b[0m \u001b[38;5;28;01mfor\u001b[39;00m line \u001b[38;5;129;01min\u001b[39;00m lines:\n\u001b[0;32m     19\u001b[0m     values \u001b[38;5;241m=\u001b[39m line\u001b[38;5;241m.\u001b[39msplit()\n\u001b[1;32m---> 20\u001b[0m     \u001b[38;5;28mself\u001b[39m\u001b[38;5;241m.\u001b[39mI\u001b[38;5;241m.\u001b[39mappend(\u001b[38;5;28;43mfloat\u001b[39;49m\u001b[43m(\u001b[49m\u001b[43mvalues\u001b[49m\u001b[43m[\u001b[49m\u001b[38;5;241;43m0\u001b[39;49m\u001b[43m]\u001b[49m\u001b[43m)\u001b[49m)\n\u001b[0;32m     21\u001b[0m     \u001b[38;5;28mself\u001b[39m\u001b[38;5;241m.\u001b[39mU\u001b[38;5;241m.\u001b[39mappend(\u001b[38;5;28mfloat\u001b[39m(values[\u001b[38;5;241m1\u001b[39m]))\n\u001b[0;32m     22\u001b[0m     \u001b[38;5;28mself\u001b[39m\u001b[38;5;241m.\u001b[39mj\u001b[38;5;241m.\u001b[39mappend(\u001b[38;5;28mfloat\u001b[39m(values[\u001b[38;5;241m2\u001b[39m]))\n",
      "\u001b[1;31mValueError\u001b[0m: could not convert string to float: 'U[V]'"
     ]
    }
   ],
   "source": [
    "#sukurkite failus nuskaitančią klasę, ji turi būti aprašyta jūsų kuriamame modulyje;\n",
    "#ta klasė turi nuskaityti pateiktą failą, ir suskaidyti stulpelius į sąrašus:\n",
    "#sąrašai I, U, j, P, duomenys iš juos iš atitinkamų taip pat pavadintų stulpelių\n",
    "#realizuokite tai, jog klasė rastų tokį dydį - maksimalų P, suskaičiuotų tokį dydį pce = Pmax / 1000 * 100%;\n",
    "#šie dydžiai turi būti pasiekiamį arba kaip atributas, arba galite įdėti metodą jam gauti\n",
    "\n",
    "class FailoSkaitytuvas():\n",
    "    def __init__(self, failo_pavadinimas):\n",
    "        self.I = []\n",
    "        self.U = []\n",
    "        self.j = []\n",
    "        self.P = []\n",
    "        self.failo_pavadinimas = failo_pavadinimas\n",
    "\n",
    "    def skaityti_faila(self):\n",
    "        with open(self.failo_pavadinimas, 'r') as failas:\n",
    "            lines = failas.readlines()\n",
    "            for line in lines:\n",
    "                values = line.split()\n",
    "                self.I.append(float(values[0]))\n",
    "                self.U.append(float(values[1]))\n",
    "                self.j.append(float(values[2]))\n",
    "                self.P.append(float(values[3]))\n",
    "\n",
    "    def pce_dydis(self):\n",
    "        Pmax = max(self.P)\n",
    "        pce = Pmax / 1000 * 100\n",
    "        return pce\n",
    "\n",
    "\n",
    "# Pavyzdinis failas \"duomenys.txt\":\n",
    "# 1.2 3.4 5.6 7.8\n",
    "# 2.3 4.5 6.7 8.9\n",
    "# ...\n",
    "\n",
    "# Sukuriame objektą FailoSkaitytuvas\n",
    "fs = FailoSkaitytuvas(\"REF_D_5k_FW_2.03.dat\")\n",
    "\n",
    "# Nuskaitome failą\n",
    "fs.skaityti_faila()\n",
    "\n",
    "# Atspausdiname skaičių sąrašus\n",
    "print(\"I:\", fs.I)\n",
    "print(\"U:\", fs.U)\n",
    "print(\"j:\", fs.j)\n",
    "print(\"P:\", fs.P)\n",
    "\n",
    "# Gauti ir atspausdinti pce dydį\n",
    "print(\"PCE dydis:\", fs.pce_dydis())"
   ]
  },
  {
   "cell_type": "code",
   "execution_count": 6,
   "metadata": {},
   "outputs": [
    {
     "name": "stdout",
     "output_type": "stream",
     "text": [
      "['U[V] ; I[A] ; j[mA/cm^2] ; P[mW/cm^2]\\n', '1.2 ; 0.0010878 ; 13.59755 ; 16.31706\\n', '1.1766667 ; 0.0008779 ; 10.9735512 ; 12.912212\\n', '1.1533333 ; 0.000675 ; 8.4376562 ; 9.7314302\\n', '1.13 ; 0.0004624 ; 5.780055 ; 6.5314621\\n', '1.1066667 ; 0.0002595 ; 3.2442637 ; 3.5903185\\n', '1.0833333 ; 7.83e-05 ; 0.9787641 ; 1.0603278\\n', '1.06 ; -7.92e-05 ; -0.9902056 ; -1.049618\\n', '1.0366667 ; -0.0002111 ; -2.63856 ; -2.7353072\\n', '1.0133333 ; -0.0003275 ; -4.0936325 ; -4.1482143\\n', '0.99 ; -0.0004257 ; -5.3214875 ; -5.2682726\\n', '0.9666667 ; -0.0005053 ; -6.3163262 ; -6.105782\\n', '0.9433333 ; -0.0005775 ; -7.2184413 ; -6.8093962\\n', '0.92 ; -0.0006322 ; -7.9018762 ; -7.2697261\\n', '0.8966667 ; -0.0006841 ; -8.55161 ; -7.6679436\\n', '0.8733333 ; -0.0007236 ; -9.0446012 ; -7.8989518\\n', '0.85 ; -0.0007626 ; -9.5324562 ; -8.1025878\\n', '0.8266667 ; -0.0007935 ; -9.9188812 ; -8.1996085\\n', '0.8033333 ; -0.00082 ; -10.2496088 ; -8.2338524\\n', '0.78 ; -0.000844 ; -10.54984 ; -8.2288752\\n', '0.7566667 ; -0.0008673 ; -10.8409325 ; -8.2029723\\n', '0.7333333 ; -0.0008861 ; -11.0765737 ; -8.1228207\\n', '0.71 ; -0.0009078 ; -11.3475225 ; -8.056741\\n', '0.6866667 ; -0.0009232 ; -11.54044 ; -7.9244355\\n', '0.6633333 ; -0.0009366 ; -11.7071862 ; -7.7657669\\n', '0.64 ; -0.0009499 ; -11.8743688 ; -7.599596\\n', '0.6166667 ; -0.0009627 ; -12.0343163 ; -7.4211617\\n', '0.5933333 ; -0.0009703 ; -12.1289325 ; -7.1964999\\n', '0.57 ; -0.0009859 ; -12.3241412 ; -7.0247605\\n', '0.5466667 ; -0.0009944 ; -12.430245 ; -6.7952006\\n', '0.5233333 ; -0.0010052 ; -12.564875 ; -6.5756179\\n', '0.5 ; -0.0010112 ; -12.6399875 ; -6.3199937\\n', '0.4766667 ; -0.0010199 ; -12.748875 ; -6.0769637\\n', '0.4533333 ; -0.0010326 ; -12.9069375 ; -5.851145\\n', '0.43 ; -0.001036 ; -12.949525 ; -5.5682957\\n', '0.4066667 ; -0.0010445 ; -13.0564375 ; -5.3096179\\n', '0.3833333 ; -0.0010523 ; -13.1534625 ; -5.0421606\\n', '0.36 ; -0.0010578 ; -13.2229375 ; -4.7602575\\n', '0.3366667 ; -0.0010652 ; -13.315025 ; -4.4827251\\n', '0.3133333 ; -0.001071 ; -13.3871125 ; -4.1946286\\n', '0.29 ; -0.0010763 ; -13.454075 ; -3.9016817\\n', '0.2666667 ; -0.0010762 ; -13.4520625 ; -3.5872167\\n', '0.2433333 ; -0.0010847 ; -13.5591375 ; -3.2993901\\n', '0.22 ; -0.0010849 ; -13.5611375 ; -2.9834502\\n', '0.1966667 ; -0.0010945 ; -13.681475 ; -2.6906901\\n', '0.1733333 ; -0.0010986 ; -13.7326875 ; -2.3803325\\n', '0.15 ; -0.0010973 ; -13.7157375 ; -2.0573606\\n', '0.1266667 ; -0.0011029 ; -13.786125 ; -1.7462425\\n', '0.1033333 ; -0.0011123 ; -13.9040625 ; -1.4367531\\n', '0.08 ; -0.0011134 ; -13.9177125 ; -1.113417\\n', '0.0566667 ; -0.0011145 ; -13.9308875 ; -0.789417\\n', '0.0333333 ; -0.0011196 ; -13.99485 ; -0.466495\\n', '0.01 ; -0.0011251 ; -14.0638125 ; -0.1406381\\n', '-0.0133333 ; -0.0011315 ; -14.143925 ; 0.1885857\\n', '-0.0366667 ; -0.0011255 ; -14.069175 ; 0.5158698\\n', '-0.06 ; -0.0011356 ; -14.194875 ; 0.8516925\\n', '-0.0833333 ; -0.001135 ; -14.187575 ; 1.1822979\\n', '-0.1066667 ; -0.0011368 ; -14.209825 ; 1.5157147\\n', '-0.13 ; -0.0011369 ; -14.2107875 ; 1.8474024\\n', '-0.1533333 ; -0.0011401 ; -14.2518 ; 2.185276\\n', '-0.1766667 ; -0.0011429 ; -14.2859625 ; 2.5238534\\n', '-0.2 ; -0.0011471 ; -14.338775 ; 2.867755']\n"
     ]
    },
    {
     "ename": "AttributeError",
     "evalue": "'keturiolika_failu' object has no attribute 'p'",
     "output_type": "error",
     "traceback": [
      "\u001b[1;31m---------------------------------------------------------------------------\u001b[0m",
      "\u001b[1;31mAttributeError\u001b[0m                            Traceback (most recent call last)",
      "Cell \u001b[1;32mIn[6], line 38\u001b[0m\n\u001b[0;32m     35\u001b[0m         \u001b[38;5;28;01mreturn\u001b[39;00m PCE\n\u001b[0;32m     37\u001b[0m sarasas \u001b[38;5;241m=\u001b[39m keturiolika_failu(\u001b[38;5;124m'\u001b[39m\u001b[38;5;124mREF_D_5k_FW_2.03.dat\u001b[39m\u001b[38;5;124m'\u001b[39m, \u001b[38;5;124m'\u001b[39m\u001b[38;5;124m;\u001b[39m\u001b[38;5;124m'\u001b[39m) \u001b[38;5;66;03m#pasitikrinam ar nuskaito info is failo\u001b[39;00m\n\u001b[1;32m---> 38\u001b[0m \u001b[43msarasas\u001b[49m\u001b[38;5;241;43m.\u001b[39;49m\u001b[43mdataReader\u001b[49m\u001b[43m(\u001b[49m\u001b[43m)\u001b[49m\n\u001b[0;32m     39\u001b[0m \u001b[38;5;28mprint\u001b[39m(sarasas\u001b[38;5;241m.\u001b[39mgetPCE())\n",
      "Cell \u001b[1;32mIn[6], line 23\u001b[0m, in \u001b[0;36mketuriolika_failu.dataReader\u001b[1;34m(self)\u001b[0m\n\u001b[0;32m     21\u001b[0m     \u001b[38;5;28mself\u001b[39m\u001b[38;5;241m.\u001b[39mU\u001b[38;5;241m.\u001b[39mappend(\u001b[38;5;28mfloat\u001b[39m(eilute\u001b[38;5;241m.\u001b[39msplit(\u001b[38;5;28mself\u001b[39m\u001b[38;5;241m.\u001b[39mSkirtukas)[\u001b[38;5;241m1\u001b[39m]))           \n\u001b[0;32m     22\u001b[0m     \u001b[38;5;28mself\u001b[39m\u001b[38;5;241m.\u001b[39mj\u001b[38;5;241m.\u001b[39mappend(\u001b[38;5;28mfloat\u001b[39m(eilute\u001b[38;5;241m.\u001b[39msplit(\u001b[38;5;28mself\u001b[39m\u001b[38;5;241m.\u001b[39mSkirtukas)[\u001b[38;5;241m2\u001b[39m]))\n\u001b[1;32m---> 23\u001b[0m     \u001b[38;5;28;43mself\u001b[39;49m\u001b[38;5;241;43m.\u001b[39;49m\u001b[43mp\u001b[49m\u001b[38;5;241m.\u001b[39mappend(\u001b[38;5;28mfloat\u001b[39m(eilute\u001b[38;5;241m.\u001b[39msplit(\u001b[38;5;28mself\u001b[39m\u001b[38;5;241m.\u001b[39mSkirtukas)[\u001b[38;5;241m3\u001b[39m]\u001b[38;5;241m.\u001b[39mreplace(\u001b[38;5;124m'\u001b[39m\u001b[38;5;130;01m\\n\u001b[39;00m\u001b[38;5;124m'\u001b[39m, \u001b[38;5;124m'\u001b[39m\u001b[38;5;124m'\u001b[39m)))\n\u001b[0;32m     24\u001b[0m \u001b[38;5;28mprint\u001b[39m(\u001b[38;5;28mself\u001b[39m\u001b[38;5;241m.\u001b[39mI)\n\u001b[0;32m     25\u001b[0m \u001b[38;5;28mprint\u001b[39m(\u001b[38;5;28mself\u001b[39m\u001b[38;5;241m.\u001b[39mU) \n",
      "\u001b[1;31mAttributeError\u001b[0m: 'keturiolika_failu' object has no attribute 'p'"
     ]
    }
   ],
   "source": [
    "#sukurkite failus nuskaitančią klasę, ji turi būti aprašyta jūsų kuriamame modulyje;\n",
    "#ta klasė turi nuskaityti pateiktą failą, ir suskaidyti stulpelius į sąrašus:\n",
    "#sąrašai I, U, j, P, duomenys iš juos iš atitinkamų taip pat pavadintų stulpelių\n",
    "#realizuokite tai, jog klasė rastų tokį dydį - maksimalų P, suskaičiuotų tokį dydį pce = Pmax / 1000 * 100%;\n",
    "#šie dydžiai turi būti pasiekiamį arba kaip atributas, arba galite įdėti metodą jam gauti\n",
    "class keturiolika_failu():\n",
    "    def __init__(self, Pavadinimas, Skirtukas):\n",
    "        self.Pavadinimas = Pavadinimas\n",
    "        self.Skirtukas = Skirtukas\n",
    "        self.I = []\n",
    "        self.U = []\n",
    "        self.j = []\n",
    "    def dataReader(self):\n",
    "        fname = self.Pavadinimas\n",
    "        file = open(fname, mode='r', encoding= 'utf-8')\n",
    "        sarasas = file.readlines() # suformuoja teksta kaip eiluciu sarasa\n",
    "        file.close()\n",
    "        print(sarasas) # pasitikrinam ar veikia\n",
    "        for eilute in sarasas[1::]:\n",
    "            self.I.append(float(eilute.split(self.Skirtukas)[0]))\n",
    "            self.U.append(float(eilute.split(self.Skirtukas)[1]))           \n",
    "            self.j.append(float(eilute.split(self.Skirtukas)[2]))\n",
    "            self.p.append(float(eilute.split(self.Skirtukas)[3].replace('\\n', '')))\n",
    "        print(self.I)\n",
    "        print(self.U) \n",
    "        print(self.j) \n",
    "        print(self.p) \n",
    "    def getPmax(self):\n",
    "        Pmax = (max(self.p))\n",
    "        return Pmax\n",
    "    \n",
    "    def getPCE(self):\n",
    "        Pmax= self.getPmax()\n",
    "        PCE = round((Pmax / 1000 * 100),2)\n",
    "        return PCE\n",
    "    \n",
    "sarasas = keturiolika_failu('REF_D_5k_FW_2.03.dat', ';') #pasitikrinam ar nuskaito info is failo\n",
    "sarasas.dataReader()\n",
    "print(sarasas.getPCE())"
   ]
  },
  {
   "cell_type": "code",
   "execution_count": 8,
   "metadata": {},
   "outputs": [
    {
     "name": "stdout",
     "output_type": "stream",
     "text": [
      "1.63\n"
     ]
    }
   ],
   "source": [
    "#RASOS SPRENDIMAS\n",
    "class keturiolika_failu():\n",
    "    def __init__(self, Pavadinimas, Skirtukas):\n",
    "        self.Pavadinimas = Pavadinimas\n",
    "        self.Skirtukas = Skirtukas\n",
    "        self.I = []\n",
    "        self.U = []\n",
    "        self.j = []\n",
    "        self.p = []\n",
    "        self.__dataReader() # kreipiasi i dataReader; __ padar privaciu ir naudojami tik klases viduje\n",
    "    def __dataReader(self):\n",
    "        fname = self.Pavadinimas\n",
    "        file = open(fname, mode='r', encoding= 'utf-8')\n",
    "        sarasas = file.readlines()\n",
    "        file.close()\n",
    "        for eilute in sarasas[1::]:\n",
    "            self.I.append(float(eilute.split(self.Skirtukas)[0]))\n",
    "            self.U.append(float(eilute.split(self.Skirtukas)[1]))           \n",
    "            self.j.append(float(eilute.split(self.Skirtukas)[2]))\n",
    "            self.p.append(float(eilute.split(self.Skirtukas)[3].replace('\\n', '')))\n",
    "    def getPmax(self):\n",
    "        Pmax = (max(self.p))\n",
    "        return Pmax\n",
    "    \n",
    "    def getPCE(self):\n",
    "        Pmax= self.getPmax()\n",
    "        PCE = round((Pmax / 1000 * 100),2)\n",
    "        return PCE\n",
    "    \n",
    "sarasas = keturiolika_failu('REF_D_5k_FW_2.03.dat',';')\n",
    "# sarasas.__dataReader()\n",
    "print(sarasas.getPCE())"
   ]
  },
  {
   "cell_type": "code",
   "execution_count": 9,
   "metadata": {},
   "outputs": [
    {
     "ename": "ModuleNotFoundError",
     "evalue": "No module named 'pandas'",
     "output_type": "error",
     "traceback": [
      "\u001b[1;31m---------------------------------------------------------------------------\u001b[0m",
      "\u001b[1;31mModuleNotFoundError\u001b[0m                       Traceback (most recent call last)",
      "Cell \u001b[1;32mIn[9], line 1\u001b[0m\n\u001b[1;32m----> 1\u001b[0m \u001b[38;5;28;01mimport\u001b[39;00m \u001b[38;5;21;01mpandas\u001b[39;00m \u001b[38;5;28;01mas\u001b[39;00m \u001b[38;5;21;01mpd\u001b[39;00m\n",
      "\u001b[1;31mModuleNotFoundError\u001b[0m: No module named 'pandas'"
     ]
    }
   ],
   "source": [
    "import pandas as pd"
   ]
  },
  {
   "cell_type": "code",
   "execution_count": 10,
   "metadata": {},
   "outputs": [
    {
     "name": "stdout",
     "output_type": "stream",
     "text": [
      "Collecting pandas\n",
      "  Using cached pandas-2.2.1-cp312-cp312-win_amd64.whl.metadata (19 kB)\n",
      "Requirement already satisfied: numpy<2,>=1.26.0 in c:\\users\\cougar\\appdata\\local\\programs\\python\\python312\\lib\\site-packages (from pandas) (1.26.4)\n",
      "Requirement already satisfied: python-dateutil>=2.8.2 in c:\\users\\cougar\\appdata\\roaming\\python\\python312\\site-packages (from pandas) (2.9.0.post0)\n",
      "Collecting pytz>=2020.1 (from pandas)\n",
      "  Downloading pytz-2024.1-py2.py3-none-any.whl.metadata (22 kB)\n",
      "Collecting tzdata>=2022.7 (from pandas)\n",
      "  Downloading tzdata-2024.1-py2.py3-none-any.whl.metadata (1.4 kB)\n",
      "Requirement already satisfied: six>=1.5 in c:\\users\\cougar\\appdata\\roaming\\python\\python312\\site-packages (from python-dateutil>=2.8.2->pandas) (1.16.0)\n",
      "Downloading pandas-2.2.1-cp312-cp312-win_amd64.whl (11.5 MB)\n",
      "   ---------------------------------------- 0.0/11.5 MB ? eta -:--:--\n",
      "   ---------------------------------------- 0.0/11.5 MB 1.3 MB/s eta 0:00:09\n",
      "   - -------------------------------------- 0.3/11.5 MB 4.2 MB/s eta 0:00:03\n",
      "   --- ------------------------------------ 1.0/11.5 MB 9.0 MB/s eta 0:00:02\n",
      "   ------ --------------------------------- 1.8/11.5 MB 11.2 MB/s eta 0:00:01\n",
      "   --------- ------------------------------ 2.7/11.5 MB 13.2 MB/s eta 0:00:01\n",
      "   ------------- -------------------------- 3.8/11.5 MB 15.1 MB/s eta 0:00:01\n",
      "   ----------------- ---------------------- 5.1/11.5 MB 17.2 MB/s eta 0:00:01\n",
      "   ----------------------- ---------------- 6.7/11.5 MB 19.5 MB/s eta 0:00:01\n",
      "   ------------------------------ --------- 8.6/11.5 MB 22.1 MB/s eta 0:00:01\n",
      "   ------------------------------------- -- 10.8/11.5 MB 29.7 MB/s eta 0:00:01\n",
      "   ---------------------------------------  11.5/11.5 MB 31.2 MB/s eta 0:00:01\n",
      "   ---------------------------------------- 11.5/11.5 MB 26.2 MB/s eta 0:00:00\n",
      "Downloading pytz-2024.1-py2.py3-none-any.whl (505 kB)\n",
      "   ---------------------------------------- 0.0/505.5 kB ? eta -:--:--\n",
      "   --------------------------------------- 505.5/505.5 kB 33.0 MB/s eta 0:00:00\n",
      "Downloading tzdata-2024.1-py2.py3-none-any.whl (345 kB)\n",
      "   ---------------------------------------- 0.0/345.4 kB ? eta -:--:--\n",
      "   ---------------------------------------- 345.4/345.4 kB ? eta 0:00:00\n",
      "Installing collected packages: pytz, tzdata, pandas\n",
      "Successfully installed pandas-2.2.1 pytz-2024.1 tzdata-2024.1\n",
      "Note: you may need to restart the kernel to use updated packages.\n"
     ]
    }
   ],
   "source": [
    "pip install pandas"
   ]
  },
  {
   "cell_type": "code",
   "execution_count": 11,
   "metadata": {},
   "outputs": [],
   "source": [
    "import pandas as pd"
   ]
  },
  {
   "cell_type": "code",
   "execution_count": 12,
   "metadata": {},
   "outputs": [
    {
     "name": "stdout",
     "output_type": "stream",
     "text": [
      "Requirement already satisfied: matplotlib in c:\\users\\cougar\\appdata\\local\\programs\\python\\python312\\lib\\site-packages (3.8.3)\n",
      "Requirement already satisfied: contourpy>=1.0.1 in c:\\users\\cougar\\appdata\\local\\programs\\python\\python312\\lib\\site-packages (from matplotlib) (1.2.0)\n",
      "Requirement already satisfied: cycler>=0.10 in c:\\users\\cougar\\appdata\\local\\programs\\python\\python312\\lib\\site-packages (from matplotlib) (0.12.1)\n",
      "Requirement already satisfied: fonttools>=4.22.0 in c:\\users\\cougar\\appdata\\local\\programs\\python\\python312\\lib\\site-packages (from matplotlib) (4.50.0)\n",
      "Requirement already satisfied: kiwisolver>=1.3.1 in c:\\users\\cougar\\appdata\\local\\programs\\python\\python312\\lib\\site-packages (from matplotlib) (1.4.5)\n",
      "Requirement already satisfied: numpy<2,>=1.21 in c:\\users\\cougar\\appdata\\local\\programs\\python\\python312\\lib\\site-packages (from matplotlib) (1.26.4)\n",
      "Requirement already satisfied: packaging>=20.0 in c:\\users\\cougar\\appdata\\roaming\\python\\python312\\site-packages (from matplotlib) (24.0)\n",
      "Requirement already satisfied: pillow>=8 in c:\\users\\cougar\\appdata\\local\\programs\\python\\python312\\lib\\site-packages (from matplotlib) (10.2.0)\n",
      "Requirement already satisfied: pyparsing>=2.3.1 in c:\\users\\cougar\\appdata\\local\\programs\\python\\python312\\lib\\site-packages (from matplotlib) (3.1.2)\n",
      "Requirement already satisfied: python-dateutil>=2.7 in c:\\users\\cougar\\appdata\\roaming\\python\\python312\\site-packages (from matplotlib) (2.9.0.post0)\n",
      "Requirement already satisfied: six>=1.5 in c:\\users\\cougar\\appdata\\roaming\\python\\python312\\site-packages (from python-dateutil>=2.7->matplotlib) (1.16.0)\n",
      "Note: you may need to restart the kernel to use updated packages.\n"
     ]
    }
   ],
   "source": [
    "pip install matplotlib"
   ]
  },
  {
   "cell_type": "code",
   "execution_count": 13,
   "metadata": {},
   "outputs": [],
   "source": [
    "import matplotlib.pyplot as plt"
   ]
  }
 ],
 "metadata": {
  "kernelspec": {
   "display_name": "Python 3",
   "language": "python",
   "name": "python3"
  },
  "language_info": {
   "codemirror_mode": {
    "name": "ipython",
    "version": 3
   },
   "file_extension": ".py",
   "mimetype": "text/x-python",
   "name": "python",
   "nbconvert_exporter": "python",
   "pygments_lexer": "ipython3",
   "version": "3.12.2"
  }
 },
 "nbformat": 4,
 "nbformat_minor": 2
}
