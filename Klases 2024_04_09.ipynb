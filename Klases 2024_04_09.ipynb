{
 "cells": [
  {
   "cell_type": "code",
   "execution_count": 5,
   "metadata": {},
   "outputs": [
    {
     "name": "stdout",
     "output_type": "stream",
     "text": [
      "pavadinimas turi 5 sedimas vietas\n",
      "pavadinimas turi 40 sedimu vietu \n",
      "pavadinimas turi 100 sedimu vietu\n"
     ]
    }
   ],
   "source": [
    "#su paveldėjimu:\n",
    "# Sukurkite klasę Vehicle su tokiais atributais - Pavadinimas, Rida\n",
    "#Sukurkite išvestines klases Car, Bus, Train,\n",
    "# kurie paveldėtų viską iš Vehicle, ir papildomai būtų galima\n",
    "# nurodyti Seats - sėdimų vietų skaičių, ir visi \n",
    "# turėtų metoda GetSeats() grąžinantį tekstą:\n",
    "# <Pavadinimas> turi <Seats> sėdimų vietų.\n",
    "\n",
    "class Vehicle():\n",
    "    def __init__(self, P, R):\n",
    "        self.P = P\n",
    "        self.R = R\n",
    "class Car(Vehicle):\n",
    "    def __init__(self, P, R, S):\n",
    "       super().__init__(P, R)\n",
    "       self.S = S\n",
    "    \n",
    "    def GetSeats(self):\n",
    "        Txt = self.P + \" turi \" + str(self.S) + \" sedimas vietas\"\n",
    "        return Txt\n",
    "    \n",
    "test = Car(P= 'pavadinimas', R=5000, S= 5)\n",
    "print(test.GetSeats())\n",
    "class Bus(Vehicle):\n",
    "    def __init__(self, P, R, S):\n",
    "       super().__init__(P, R)\n",
    "       self.S = S\n",
    "    \n",
    "    def GetSeats(self):\n",
    "        Txt = self.P + \" turi \" + str(self.S) + \" sedimu vietu \"\n",
    "        return Txt\n",
    "    \n",
    "test = Bus(P= 'pavadinimas', R=5000, S= 40)\n",
    "print(test.GetSeats())\n",
    "class Train(Vehicle):\n",
    "    def __init__(self, P, R, S):\n",
    "       super().__init__(P, R)\n",
    "       self.S = S\n",
    "    \n",
    "    def GetSeats(self):\n",
    "        Txt = self.P + \" turi \" + str(self.S) + \" sedimu vietu\"\n",
    "        return Txt\n",
    "    \n",
    "test = Train(P= 'pavadinimas', R=5000, S= 100)\n",
    "print(test.GetSeats())\n"
   ]
  },
  {
   "cell_type": "code",
   "execution_count": null,
   "metadata": {},
   "outputs": [],
   "source": [
    "#parašykite klasę TxtAnalyzer, kuriai kreipimosi metu galima būtų nurodyti failo pavadinimą ir stulpelių skirtuką.\n",
    "#klasė sukūrimo metu turi nuskaityti failą, stulpelius skaičių suskirstyti į sąrašus ir juos priskirti atributams X, Y ir Z.\n",
    "#Realizuokite metodus, kurie grąžintų X, Y, Z sąrašų vidurkius, minimalias ir maksimalias vertes. Pythone yra min, max, sum funkcijos;\n",
    "\n"
   ]
  }
 ],
 "metadata": {
  "kernelspec": {
   "display_name": "Python 3",
   "language": "python",
   "name": "python3"
  },
  "language_info": {
   "codemirror_mode": {
    "name": "ipython",
    "version": 3
   },
   "file_extension": ".py",
   "mimetype": "text/x-python",
   "name": "python",
   "nbconvert_exporter": "python",
   "pygments_lexer": "ipython3",
   "version": "3.12.2"
  }
 },
 "nbformat": 4,
 "nbformat_minor": 2
}
