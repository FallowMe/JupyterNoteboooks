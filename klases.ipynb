{
 "cells": [
  {
   "cell_type": "code",
   "execution_count": 1,
   "metadata": {},
   "outputs": [
    {
     "name": "stdout",
     "output_type": "stream",
     "text": [
      "Testas\n"
     ]
    }
   ],
   "source": [
    "print(\"Testas\")"
   ]
  },
  {
   "cell_type": "code",
   "execution_count": 3,
   "metadata": {},
   "outputs": [
    {
     "name": "stdout",
     "output_type": "stream",
     "text": [
      "<class 'str'>\n",
      "<class 'int'>\n",
      "<class 'list'>\n"
     ]
    }
   ],
   "source": [
    "# klases\n",
    "s = \"tekstas\"\n",
    "sk = 7\n",
    "sar = []\n",
    "print(type(s), type(sk), type(sar), sep='\\n')\n",
    "s.upper()"
   ]
  },
  {
   "cell_type": "code",
   "execution_count": 19,
   "metadata": {},
   "outputs": [],
   "source": [
    "class Asmuo():\n",
    "    def __init__(self, name):\n",
    "        self.Name = name  #aprasytas klases atributas (tiesiog kintamasis esantis klases viduje)\n",
    "        pass\n",
    "\n",
    "    def getName(self):\n",
    "        return(self.Name)\n",
    "    \n",
    "    def setName(self , new_name):\n",
    "        self.Name = new_name"
   ]
  },
  {
   "cell_type": "code",
   "execution_count": 69,
   "metadata": {},
   "outputs": [
    {
     "name": "stdout",
     "output_type": "stream",
     "text": [
      "<class '__main__.Asmuo'>\n",
      "<class '__main__.Asmuo'>\n"
     ]
    }
   ],
   "source": [
    "a1 = Asmuo('Jonukas')\n",
    "a2 = Asmuo('Petriukas')\n",
    "print(type(a1), type(a2), sep='\\n')"
   ]
  },
  {
   "cell_type": "code",
   "execution_count": 74,
   "metadata": {},
   "outputs": [
    {
     "name": "stdout",
     "output_type": "stream",
     "text": [
      "Vardenis\n",
      "Vardenis\n"
     ]
    }
   ],
   "source": [
    "print(a1.getName())\n",
    "a1.setName('Vardenis')\n",
    "print(a1.getName())"
   ]
  },
  {
   "cell_type": "code",
   "execution_count": 13,
   "metadata": {},
   "outputs": [],
   "source": [
    "def calculateAge():\n",
    "    return \"Cha!!!\"\n",
    "\n",
    "\n",
    "class Asmuo():\n",
    "    def __init__(self, name, gm):\n",
    "        self.Name = name  #aprasytas klases atributas (tiesiog kintamasis esantis klases viduje)\n",
    "        self.Byear = gm\n",
    "        self.Age = self.calculateAge() # kaip kreiptis i metoda is kito metodo\n",
    "        pass\n",
    "\n",
    "    def getName(self):\n",
    "        return(self.Name)\n",
    "    \n",
    "    def setName(self , new_name):\n",
    "        self.Name = new_name\n",
    "\n",
    "    def calculateAge(self):\n",
    "        return 2024 - self.Byear #tas pats kas penktoje eiluteje"
   ]
  },
  {
   "cell_type": "code",
   "execution_count": 17,
   "metadata": {},
   "outputs": [
    {
     "name": "stdout",
     "output_type": "stream",
     "text": [
      "28 Vardenis\n"
     ]
    }
   ],
   "source": [
    "a1 = Asmuo('Vardenis', 1996)\n",
    "print(a1.Age, a1.getName())"
   ]
  },
  {
   "cell_type": "code",
   "execution_count": 21,
   "metadata": {},
   "outputs": [],
   "source": [
    "# paveldejimas\n",
    "\n",
    "class Studentas(Asmuo):\n",
    "    def getStatus(self):\n",
    "        return \"Studentas\"\n",
    "\n"
   ]
  },
  {
   "cell_type": "code",
   "execution_count": 22,
   "metadata": {},
   "outputs": [],
   "source": [
    "std1 = Studentas('Une', 1992)"
   ]
  },
  {
   "cell_type": "code",
   "execution_count": 23,
   "metadata": {},
   "outputs": [
    {
     "name": "stdout",
     "output_type": "stream",
     "text": [
      "32 Une\n"
     ]
    }
   ],
   "source": [
    "print(std1.Age, std1.getName())"
   ]
  },
  {
   "cell_type": "code",
   "execution_count": 24,
   "metadata": {},
   "outputs": [
    {
     "data": {
      "text/plain": [
       "'Studentas'"
      ]
     },
     "execution_count": 24,
     "metadata": {},
     "output_type": "execute_result"
    }
   ],
   "source": [
    "std1.getStatus()"
   ]
  },
  {
   "cell_type": "code",
   "execution_count": 29,
   "metadata": {},
   "outputs": [],
   "source": [
    "# sudetingesnis paveldejimo atvejis\n",
    "\n",
    "class Studentas(Asmuo):\n",
    "    def __init__(self, name, gm):\n",
    "        super().__init__(name, gm)\n",
    "        self.Enroll = True\n",
    "\n",
    "std1 = Studentas('Une', 1996)"
   ]
  },
  {
   "cell_type": "code",
   "execution_count": 32,
   "metadata": {},
   "outputs": [
    {
     "name": "stdout",
     "output_type": "stream",
     "text": [
      "28 True\n"
     ]
    }
   ],
   "source": [
    "print(std1.Age, std1.Enroll)"
   ]
  },
  {
   "cell_type": "code",
   "execution_count": 45,
   "metadata": {},
   "outputs": [
    {
     "name": "stdout",
     "output_type": "stream",
     "text": [
      "49\n"
     ]
    }
   ],
   "source": [
    "# aprašykite klasę Kvadratas\n",
    "# kreipiantis į klasę, reikia nurodyti kvadrato ilgį a.\n",
    "# Klasė turi turėti atributą Plotas, kurį \n",
    "# turi apskaičiuoti klasės kūrimo metu.\n",
    "# Plotas = a*a\n",
    "# parašykite metodą, kuris grąžintų apskaičiuoto Plotas atributo reikšmę.\n",
    "\n",
    "class Kvadratas():\n",
    "    def __init__(self, a):\n",
    "        self.Plotas = a*a\n",
    "    def plotas(self):\n",
    "        return self.Plotas\n",
    "\n",
    "kvadratu = Kvadratas(a=7)\n",
    "print(kvadratu.plotas())"
   ]
  },
  {
   "cell_type": "code",
   "execution_count": 52,
   "metadata": {},
   "outputs": [
    {
     "name": "stdout",
     "output_type": "stream",
     "text": [
      "15\n",
      "16\n"
     ]
    }
   ],
   "source": [
    "# aprašykite klasę Rectangle\n",
    "# kreipiantis į klasę, reikia nurodyti stačiakampio\n",
    "# kraštines a ir b.\n",
    "# Realizuokite atributą Plotas = a*b\n",
    "# ir metodą, grąžinantį Ploto reikšmę\n",
    "# Taip pat pridėkite metodą, apskaičiuojantį ir grąžinantį\n",
    "# perimetrą P=2(a+b)\n",
    "\n",
    "class Rectangle():\n",
    "    def __init__(self, a, b):\n",
    "        self.Plotas = a*b\n",
    "        self.Perimetras = 2*(a+b)\n",
    "    def plotas(self):\n",
    "        return self.Plotas\n",
    "    def perimetras(self):\n",
    "        return self.Perimetras \n",
    "\n",
    "Figura = Rectangle(a=5 , b=3)\n",
    "print(Figura.plotas(), Figura.perimetras(), sep='\\n')\n",
    "  \n",
    "     "
   ]
  },
  {
   "cell_type": "code",
   "execution_count": 67,
   "metadata": {},
   "outputs": [
    {
     "name": "stdout",
     "output_type": "stream",
     "text": [
      "Savaitgalis praleistas puikiai. Kaune oras buvo nuostabus.\n"
     ]
    }
   ],
   "source": [
    "#susikurkite su Notepadu tekstinį failą su bet kokiu tekstu\n",
    "#parašykite klasę TxtReader, kuriai kreipimosimetu būtų nurodomas tekstinio failo pavadinimas;\n",
    "#klasės sukūrimo metu tas tekstinis failas turi būti nuskaitomas\n",
    "#ir nuskaitytas tekstas turi būti priskirtas atributui Text\n",
    "#parašykite metodą getText(), kuri grąžintų atributo text reikšmę\n",
    "\n",
    "class TxtReader():\n",
    "    def __init__(self, Naujas):\n",
    "        self.Naujas = Naujas\n",
    "        self.Naujas = self.nuskaityti_teksta()\n",
    "\n",
    "    def nuskaityti_teksta(self):\n",
    "        with open(self.Naujas, 'r', encoding='utf=8') as failas:\n",
    "            return failas.read()\n",
    "        \n",
    "    def getNaujas(self):\n",
    "        return self.Naujas\n",
    "    \n",
    "Tekstas = TxtReader('Naujas.txt')\n",
    "print(Tekstas.getNaujas())\n",
    "\n",
    "\n"
   ]
  },
  {
   "cell_type": "code",
   "execution_count": 100,
   "metadata": {},
   "outputs": [
    {
     "name": "stdout",
     "output_type": "stream",
     "text": [
      "Rutulio tūris: 14130.0\n",
      "Rutulio paviršiaus plotas: 2826.0\n",
      "Naujas rutulio spindulys: 15\n"
     ]
    }
   ],
   "source": [
    "#Sukurkite klasę Rutulys\n",
    "#kuriai galėtumėte nurodyti Rutulio spindulį r.\n",
    "#Sukurkite metodus, skirtus rasti jo Tūriui ir paviršiaus plotui;\n",
    "#Taip pat metodą, kuriuo jūs pakeistumėte spindulio r reikšmę.\n",
    "\n",
    "class Rutulys():\n",
    "    def __init__(self, r):\n",
    "        self.r = r\n",
    "    def get_turis(self):\n",
    "        return (4/3) * 3.14 * (self.r ** 3)\n",
    "    def get_plotas(self):\n",
    "        return 4 * 3.14 * (self.r ** 2)\n",
    "\n",
    "    def set_spindulys(self, new_r):\n",
    "        self.r = new_r\n",
    "    \n",
    "#r = int(input('Iveskite spinduli r'))\n",
    "rutulys = Rutulys(r)\n",
    "print(\"Rutulio tūris:\", rutulys.get_turis()) \n",
    "#r = int(input('Iveskite spinduli r'))\n",
    "print(\"Rutulio paviršiaus plotas:\", rutulys.get_plotas())\n",
    "rutulys.set_spindulys(r) \n",
    "print(\"Naujas rutulio spindulys:\", rutulys.r)\n"
   ]
  },
  {
   "cell_type": "code",
   "execution_count": 14,
   "metadata": {},
   "outputs": [
    {
     "name": "stdout",
     "output_type": "stream",
     "text": [
      "5024.0\n",
      "33493.333333333336\n",
      "11304.0\n",
      "113040.0\n"
     ]
    }
   ],
   "source": [
    "#EDITOS SPRENDIMAS\n",
    "#Sukurkite klasę Rutulys\n",
    "#kuriai galėtumėte nurodyti Rutulio spindulį r.\n",
    "#Sukurkite metodus, skirtus rasti jo Tūriui ir paviršiaus plotui;\n",
    "#Taip pat metodą, kuriuo jūs pakeistumėte spindulio r reikšmę.\n",
    "class Rutulys():\n",
    "    def __init__ (self, r):\n",
    "        self.r = r\n",
    "           \n",
    "    def getPav_Plotas(self):\n",
    "        Pav_Plotas = 4*3.14*self.r**2\n",
    "        return Pav_Plotas\n",
    "    def getTūris(self):\n",
    "        Tūris = 4/3*3.14*self.r**3\n",
    "        return Tūris   \n",
    "    def changer(self, new_r):\n",
    "        self.r = new_r\n",
    "        \n",
    "r = int(input(\"Įveskite spindulį r\"))\n",
    "    \n",
    "rutulys  = Rutulys(r)\n",
    "print(rutulys.getPav_Plotas())\n",
    "print(rutulys.getTūris())\n",
    "\n",
    "r = int(input(\"Įveskite spindulį r\"))\n",
    "rutulys.changer(r)\n",
    "\n",
    "print(rutulys.getPav_Plotas())\n",
    "print(rutulys.getTūris())"
   ]
  },
  {
   "cell_type": "code",
   "execution_count": 4,
   "metadata": {},
   "outputs": [
    {
     "name": "stdout",
     "output_type": "stream",
     "text": [
      "157.0\n",
      "31.400000000000002\n",
      "628.0\n",
      "62.800000000000004\n"
     ]
    }
   ],
   "source": [
    "#advanced Apskritimas:\n",
    "#padarykite taip, jog klasė Apskritimas turėtų atributus S ir P, plotui ir perimetrui, \n",
    "# ir kad atnaujinus spindulį r, automatiškai pasikeistų S ir P atributų reikšmės, o getS, \n",
    "# getP metodai, kaip ir anksčiau grąžintų S ir P atributų reikšmes.\n",
    "class Apskritimas():\n",
    "    def __init__(self, r):\n",
    "        self.r = r\n",
    "        self.S = 2*3.14*r**2\n",
    "        self.P = 2*3.14*r\n",
    "        \n",
    "    def getS(self):\n",
    "        return self.S\n",
    "    \n",
    "    def getP (self):\n",
    "        return self.P\n",
    "    \n",
    "    def change (self, new_r):\n",
    "        self.r = new_r\n",
    "        self.S = 2*3.14*new_r**2\n",
    "        self.P = 2*3.14*new_r\n",
    "    \n",
    "aps = Apskritimas(5)\n",
    "print(aps.getS())\n",
    "print(aps.getP())\n",
    "aps.change(10)\n",
    "print(aps.getS())\n",
    "print(aps.getP())"
   ]
  },
  {
   "cell_type": "code",
   "execution_count": 6,
   "metadata": {},
   "outputs": [
    {
     "name": "stdout",
     "output_type": "stream",
     "text": [
      "78.5 31.400000000000002\n",
      "314.0 62.800000000000004\n"
     ]
    }
   ],
   "source": [
    "# DOMINYKO SPRENDIMAS\n",
    "# #Parašykite klasę Apskritimas, kuriai glite nurodyti apskritimo spindulį r.\n",
    "# Erealizuokite du metodus getS ir getP, plotui ir perimetrui gražinti. \n",
    "# #taip pat pridėkite metodą, skirtą spindulio keitimui \n",
    "\n",
    "class Apskritimas:\n",
    "    def __init__(self, r):\n",
    "        self.r = r\n",
    "        self.performCalc()\n",
    "    def getS(self):\n",
    "        return 3.14 * self.r**2\n",
    "    def getP(self):\n",
    "        return 2 * 3.14 * self.r\n",
    "    def setR(self, r):\n",
    "        if r < 0:\n",
    "            raise ValueError(\"Spindulys negali buti maziau uz 0!\")\n",
    "        self.r = round(r, 2) # apvalinimas iki 2 sk po kablelio kaip pvz\n",
    "        self.performCalc()\n",
    "    def performCalc(self):\n",
    "        self.plotas = self.getS()\n",
    "        self.perimetras = self.getP()\n",
    "\n",
    "a5 = Apskritimas(5)\n",
    "print(a5.getS(), a5.getP()) \n",
    "\n",
    "a5.setR(10)\n",
    "print(a5.getS(), a5.getP())"
   ]
  },
  {
   "cell_type": "code",
   "execution_count": 7,
   "metadata": {},
   "outputs": [
    {
     "name": "stdout",
     "output_type": "stream",
     "text": [
      "31.400000000000002 78.5\n",
      "62.800000000000004 314.0\n"
     ]
    }
   ],
   "source": [
    "#EGIDIJAUS SPRENDIMAS\n",
    "class Apskritimas():\n",
    "    def __init__(self, r):\n",
    "        self.R = r\n",
    "        self.S = 0\n",
    "        self.P = 0\n",
    "        self.upadeAll()\n",
    "    \n",
    "    def getP(self):\n",
    "        return self.P\n",
    "    \n",
    "    def getS(self):\n",
    "        return self.S\n",
    "    \n",
    "    def upadeAll(self):\n",
    "        self.S = 3.14*self.R**2\n",
    "        self.P = 2*3.14*self.R\n",
    "        \n",
    "    def change(self, new_r):\n",
    "        self.R = new_r\n",
    "        self.upadeAll()\n",
    "\n",
    "a = Apskritimas(5)\n",
    "print(a.getP(), a.getS())\n",
    "a.change(10)\n",
    "print(a.getP(), a.getS())"
   ]
  },
  {
   "cell_type": "code",
   "execution_count": 33,
   "metadata": {},
   "outputs": [
    {
     "name": "stdout",
     "output_type": "stream",
     "text": [
      "Plotas: \n",
      "50\n",
      "Perimetras: \n",
      "30\n",
      "Piramides turis:  10.0\n",
      "Kubo turis:  75\n"
     ]
    }
   ],
   "source": [
    "#RASOS SPRENDIMAS\n",
    "#užduotis su paveldjimu:\n",
    "#parašykite klasę Rectangle, kurioje būtų ilgio ir pločio atributai, bei du metodai - getS - plotui ir getP -perimetrui rasti\n",
    "#Sukurkite išvestinę (child) klasę Kubas, kuri papildomai turėtų Tūrio skaičiavimo metodą\n",
    "#• Klasę Piramidė - išvestinė klasė (child class). Pridėkite\n",
    "# papildomą funkcionalumą - metodą, argumentus piramidės\n",
    "# tūrio skaičiavimui.\n",
    "class Rectangle():\n",
    "    def __init__(self, a, b): \n",
    "        self.S = a * b\n",
    "        self.P = 2*(a + b)\n",
    "    def getP(self):      \n",
    "        return self.P\n",
    "    def getS(self):      \n",
    "        return self.S\n",
    "figura = Rectangle(a=10, b=5)\n",
    "print(\"Plotas: \", figura.getS(), \"Perimetras: \",figura.getP(), sep = '\\n')\n",
    "class Piramide(Rectangle):\n",
    "    def __init__ (self, a, b, h):\n",
    "        super().__init__(a, b) # cia atkeliavo is Rectangle funkcijos, 9 eilute\n",
    "        self.h = h\n",
    "    def get_piramides_turis(self):\n",
    "        Turis = 1/3*self.S*self.h\n",
    "        return Turis\n",
    "figura = Piramide(a= 2, b=3, h=5)\n",
    "print(\"Piramides turis: \", figura.get_piramides_turis())\n",
    "class Kubas(Rectangle):\n",
    "    def __init__ (self, a, b, h):\n",
    "        super().__init__(a, b) # cia atkeliavo is Rectangle funkcijos, 9 eilute\n",
    "        self.a = h\n",
    "    def getKubo_turis(self):\n",
    "        Turis = self.S*self.a\n",
    "        return Turis\n",
    "figura = Kubas(a= 5, b=5, h= 3)\n",
    "print(\"Kubo turis: \", figura.getKubo_turis())"
   ]
  }
 ],
 "metadata": {
  "kernelspec": {
   "display_name": "Python 3",
   "language": "python",
   "name": "python3"
  },
  "language_info": {
   "codemirror_mode": {
    "name": "ipython",
    "version": 3
   },
   "file_extension": ".py",
   "mimetype": "text/x-python",
   "name": "python",
   "nbconvert_exporter": "python",
   "pygments_lexer": "ipython3",
   "version": "3.12.2"
  }
 },
 "nbformat": 4,
 "nbformat_minor": 2
}
