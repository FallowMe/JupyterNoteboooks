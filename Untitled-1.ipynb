{
 "cells": [
  {
   "cell_type": "code",
   "execution_count": 11,
   "metadata": {},
   "outputs": [
    {
     "data": {
      "text/plain": [
       "2.4974205000000005"
      ]
     },
     "execution_count": 11,
     "metadata": {},
     "output_type": "execute_result"
    }
   ],
   "source": [
    "#sukurkite failus nuskaitančią klasę, ji turi būti aprašyta jūsų kuriamame modulyje;\n",
    "#ta klasė turi nuskaityti pateiktą failą, ir suskaidyti stulpelius į sąrašus:\n",
    "#sąrašai I, U, j, P, duomenys iš juos iš atitinkamų taip pat pavadintų stulpelių\n",
    "\n",
    "#realizuokite tai, jog klasė rastų tokį dydį - maksimalų P, suskaičiuotų tokį dydį pce = Pmax / 1000 * 100%;\n",
    "#šie dydžiai turi būti pasiekiamį arba kaip atributas, arba galite įdėti metodą jam gauti\n",
    "\n",
    "\n",
    "import modulis\n",
    "\n",
    "\n",
    "\n",
    "kintamasis = modulis.Txtreader(\"REF_D_1k_FW_2.05.dat\")\n",
    "kintamasis.skaitytojas()\n",
    "print(kintamasis.maksimalusP()) #parasius print matosi ir sito ats, cia jeigu reikia daugiau atsakymu, nes kitu atveju rodys tik paskutini\n",
    "print(kintamasis.pce())   #parasius print matosi ir sito ats\n",
    "\n",
    "    "
   ]
  }
 ],
 "metadata": {
  "kernelspec": {
   "display_name": "Python 3",
   "language": "python",
   "name": "python3"
  },
  "language_info": {
   "codemirror_mode": {
    "name": "ipython",
    "version": 3
   },
   "file_extension": ".py",
   "mimetype": "text/x-python",
   "name": "python",
   "nbconvert_exporter": "python",
   "pygments_lexer": "ipython3",
   "version": "3.12.2"
  }
 },
 "nbformat": 4,
 "nbformat_minor": 2
}
